{
  "nbformat": 4,
  "nbformat_minor": 0,
  "metadata": {
    "colab": {
      "provenance": []
    },
    "kernelspec": {
      "name": "python3",
      "display_name": "Python 3"
    },
    "accelerator": "GPU"
  },
  "cells": [
    {
      "cell_type": "markdown",
      "metadata": {
        "id": "6JP6k9N6MM8f"
      },
      "source": [
        "source: https://blog.keras.io/building-autoencoders-in-keras.html"
      ]
    },
    {
      "cell_type": "markdown",
      "metadata": {
        "id": "bn6WN1Iy8emi"
      },
      "source": [
        "## Preparation"
      ]
    },
    {
      "cell_type": "markdown",
      "metadata": {
        "id": "a9AxyKvx8aLA"
      },
      "source": [
        "Load dependencies"
      ]
    },
    {
      "cell_type": "code",
      "metadata": {
        "id": "dhhxxBDt4IOJ",
        "colab": {
          "base_uri": "https://localhost:8080/"
        },
        "outputId": "8e9cb43e-f1d4-4d73-859b-c8b8cf9113d2"
      },
      "source": [
        "try:\n",
        "  %tensorflow_version 2.x\n",
        "except Exception:\n",
        "  pass\n",
        "\n",
        "import tensorflow as tf\n",
        "import numpy as np\n",
        "import matplotlib.pyplot as plt\n",
        "\n",
        "from tensorflow.keras.layers import Input, Dense\n",
        "\n",
        "from tensorflow.keras.datasets import mnist"
      ],
      "execution_count": null,
      "outputs": [
        {
          "output_type": "stream",
          "name": "stdout",
          "text": [
            "Colab only includes TensorFlow 2.x; %tensorflow_version has no effect.\n"
          ]
        }
      ]
    },
    {
      "cell_type": "markdown",
      "metadata": {
        "id": "v8lc1AyxIJvL"
      },
      "source": [
        "Viz function:"
      ]
    },
    {
      "cell_type": "code",
      "metadata": {
        "id": "-LTF8ihXIM5F"
      },
      "source": [
        "# use Matplotlib\n",
        "import matplotlib.pyplot as plt\n",
        "\n",
        "def plot_results(original_imgs, decoded_imgs):\n",
        "  n = 10  # how many digits we will display\n",
        "  plt.figure(figsize=(20, 4))\n",
        "  for i in range(n):\n",
        "      # display original\n",
        "      ax = plt.subplot(2, n, i + 1)\n",
        "      plt.imshow(original_imgs[i].reshape(28, 28))\n",
        "      plt.gray()\n",
        "      ax.get_xaxis().set_visible(False)\n",
        "      ax.get_yaxis().set_visible(False)\n",
        "\n",
        "      # display reconstruction\n",
        "      ax = plt.subplot(2, n, i + 1 + n)\n",
        "      plt.imshow(decoded_imgs[i].reshape(28, 28))\n",
        "      plt.gray()\n",
        "      ax.get_xaxis().set_visible(False)\n",
        "      ax.get_yaxis().set_visible(False)\n",
        "  plt.show()"
      ],
      "execution_count": null,
      "outputs": []
    },
    {
      "cell_type": "markdown",
      "metadata": {
        "id": "r9IFXnOq8rnD"
      },
      "source": [
        "## The MNIST dataset"
      ]
    },
    {
      "cell_type": "markdown",
      "metadata": {
        "id": "GelRJsYr9xDq"
      },
      "source": [
        "The MNIST dataset contains a collection of hand-written digits."
      ]
    },
    {
      "cell_type": "markdown",
      "metadata": {
        "id": "GpAa5qdXx99J"
      },
      "source": [
        "![alt text](https://upload.wikimedia.org/wikipedia/commons/2/27/MnistExamples.png)"
      ]
    },
    {
      "cell_type": "markdown",
      "metadata": {
        "id": "1HyFph2r9721"
      },
      "source": [
        "Eeach digit is an grayscale image with size 28 X 28 pixels."
      ]
    },
    {
      "cell_type": "code",
      "metadata": {
        "id": "0X9-sGTX9BHX",
        "colab": {
          "base_uri": "https://localhost:8080/"
        },
        "outputId": "5ea865c3-08af-42dc-a351-b0d76dadd7ce"
      },
      "source": [
        "(x_train, _), (x_test, _) = mnist.load_data()"
      ],
      "execution_count": null,
      "outputs": [
        {
          "output_type": "stream",
          "name": "stdout",
          "text": [
            "Downloading data from https://storage.googleapis.com/tensorflow/tf-keras-datasets/mnist.npz\n",
            "11490434/11490434 [==============================] - 0s 0us/step\n"
          ]
        }
      ]
    },
    {
      "cell_type": "code",
      "metadata": {
        "id": "zycI6-lgyTgH",
        "outputId": "0ad4f6da-e1bc-403b-cfad-1edf9f639b4b",
        "colab": {
          "base_uri": "https://localhost:8080/",
          "height": 448
        }
      },
      "source": [
        "plt.imshow(x_train[1], cmap='gray')"
      ],
      "execution_count": null,
      "outputs": [
        {
          "output_type": "execute_result",
          "data": {
            "text/plain": [
              "<matplotlib.image.AxesImage at 0x7f8665c8ffa0>"
            ]
          },
          "metadata": {},
          "execution_count": 5
        },
        {
          "output_type": "display_data",
          "data": {
            "text/plain": [
              "<Figure size 640x480 with 1 Axes>"
            ],
            "image/png": "[encoded data removed]"
          },
          "metadata": {}
        }
      ]
    },
    {
      "cell_type": "markdown",
      "metadata": {
        "id": "f1lZ7ZVM80aa"
      },
      "source": [
        "## The Autoencoder"
      ]
    },
    {
      "cell_type": "markdown",
      "metadata": {
        "id": "3MohimqDC6Vv"
      },
      "source": [
        "### What it is:"
      ]
    },
    {
      "cell_type": "markdown",
      "metadata": {
        "id": "BFDu9PNm-X42"
      },
      "source": [
        "An Autoencoder is a special type of neural network, that can be seen as a data compression algorithm.\n",
        "\n",
        "![alt text](https://www.dropbox.com/s/yqal5kwmaa1voov/AE_images-01.png?dl=0)\n",
        "\n",
        "The autoencoder is used to automatically learn low dimensional representations of specific data.\n",
        "\n",
        "Practical applications of autoencoders include dimensionality reduction for data visualization and image denoising."
      ]
    },
    {
      "cell_type": "markdown",
      "metadata": {
        "id": "F0Pw0AC_DANL"
      },
      "source": [
        "### How it works:"
      ]
    },
    {
      "cell_type": "markdown",
      "metadata": {
        "id": "lprDK35SDEkV"
      },
      "source": [
        "An Autoencoder has two parts:\n",
        "* the encoder: takes the original input - in our case an image of a number - and converts it in a lower dimension vector\n",
        "* the decoder takes as an input the lower dimension vector and converts it back to the original input.\n",
        "\n",
        "![alt text](https://drive.google.com/uc?id=1AFvFJx7saZIVVGtXNTyRFkzGJQWaiLKL)"
      ]
    },
    {
      "cell_type": "markdown",
      "metadata": {
        "id": "J1Il_8xiTRkR"
      },
      "source": [
        "## Basic Autoencoder"
      ]
    },
    {
      "cell_type": "markdown",
      "metadata": {
        "id": "M1FC0nITTWMc"
      },
      "source": [
        "### Create model"
      ]
    },
    {
      "cell_type": "code",
      "metadata": {
        "id": "sGIY-OXp6gnB"
      },
      "source": [
        "encoding_dim = 32\n",
        "\n",
        "autoencoder = tf.keras.Sequential()\n",
        "autoencoder.add(Input(shape=784))\n",
        "autoencoder.add(Dense(encoding_dim, activation='relu'))\n",
        "autoencoder.add(Dense(784, activation='sigmoid'))\n"
      ],
      "execution_count": null,
      "outputs": []
    },
    {
      "cell_type": "code",
      "metadata": {
        "id": "l4DtWF7kvIZh",
        "outputId": "98653860-ac6e-498b-d85e-24573c8f522e",
        "colab": {
          "base_uri": "https://localhost:8080/"
        }
      },
      "source": [
        "autoencoder.summary()"
      ],
      "execution_count": null,
      "outputs": [
        {
          "output_type": "stream",
          "name": "stdout",
          "text": [
            "Model: \"sequential\"\n",
            "_________________________________________________________________\n",
            " Layer (type)                Output Shape              Param #   \n",
            "=================================================================\n",
            " dense (Dense)               (None, 32)                25120     \n",
            "                                                                 \n",
            " dense_1 (Dense)             (None, 784)               25872     \n",
            "                                                                 \n",
            "=================================================================\n",
            "Total params: 50992 (199.19 KB)\n",
            "Trainable params: 50992 (199.19 KB)\n",
            "Non-trainable params: 0 (0.00 Byte)\n",
            "_________________________________________________________________\n"
          ]
        }
      ]
    },
    {
      "cell_type": "code",
      "metadata": {
        "id": "al-AopKmBmFi"
      },
      "source": [
        "autoencoder.compile(optimizer=tf.keras.optimizers.Adadelta(learning_rate=1, rho=0.95), loss='binary_crossentropy')"
      ],
      "execution_count": null,
      "outputs": []
    },
    {
      "cell_type": "markdown",
      "metadata": {
        "id": "esBXSlLuTH0H"
      },
      "source": [
        "### Format Data"
      ]
    },
    {
      "cell_type": "code",
      "metadata": {
        "id": "_v3vqaRtAnyB",
        "outputId": "bda4cd69-9a54-4d41-aa78-9f43bfdc07e5",
        "colab": {
          "base_uri": "https://localhost:8080/"
        }
      },
      "source": [
        "x_train = x_train.astype('float32') / 255.\n",
        "x_test = x_test.astype('float32') / 255.\n",
        "x_train = x_train.reshape((len(x_train), np.prod(x_train.shape[1:])))\n",
        "x_test = x_test.reshape((len(x_test), np.prod(x_test.shape[1:])))\n",
        "print(x_train.shape)\n",
        "print(x_test.shape)"
      ],
      "execution_count": null,
      "outputs": [
        {
          "output_type": "stream",
          "name": "stdout",
          "text": [
            "(60000, 784)\n",
            "(10000, 784)\n"
          ]
        }
      ]
    },
    {
      "cell_type": "markdown",
      "metadata": {
        "id": "kLJyqCmpTe7P"
      },
      "source": [
        "### Train"
      ]
    },
    {
      "cell_type": "code",
      "metadata": {
        "id": "pTPiKF6KA9gD",
        "colab": {
          "base_uri": "https://localhost:8080/"
        },
        "outputId": "da14e98a-400d-48c7-ae30-34fa294907fb"
      },
      "source": [
        "autoencoder.fit(x_train, x_train,\n",
        "                epochs=50,\n",
        "                batch_size=256,\n",
        "                shuffle=True,\n",
        "                validation_data=(x_test, x_test))"
      ],
      "execution_count": null,
      "outputs": [
        {
          "output_type": "stream",
          "name": "stdout",
          "text": [
            "Epoch 1/50\n",
            "235/235 [==============================] - 6s 6ms/step - loss: 0.3648 - val_loss: 0.2715\n",
            "Epoch 2/50\n",
            "235/235 [==============================] - 1s 4ms/step - loss: 0.2649 - val_loss: 0.2547\n",
            "Epoch 3/50\n",
            "235/235 [==============================] - 1s 4ms/step - loss: 0.2442 - val_loss: 0.2310\n",
            "Epoch 4/50\n",
            "235/235 [==============================] - 1s 4ms/step - loss: 0.2228 - val_loss: 0.2123\n",
            "Epoch 5/50\n",
            "235/235 [==============================] - 1s 6ms/step - loss: 0.2073 - val_loss: 0.1996\n",
            "Epoch 6/50\n",
            "235/235 [==============================] - 1s 6ms/step - loss: 0.1962 - val_loss: 0.1900\n",
            "Epoch 7/50\n",
            "235/235 [==============================] - 1s 4ms/step - loss: 0.1875 - val_loss: 0.1822\n",
            "Epoch 8/50\n",
            "235/235 [==============================] - 1s 4ms/step - loss: 0.1803 - val_loss: 0.1758\n",
            "Epoch 9/50\n",
            "235/235 [==============================] - 1s 4ms/step - loss: 0.1743 - val_loss: 0.1703\n",
            "Epoch 10/50\n",
            "235/235 [==============================] - 1s 5ms/step - loss: 0.1692 - val_loss: 0.1655\n",
            "Epoch 11/50\n",
            "235/235 [==============================] - 1s 6ms/step - loss: 0.1647 - val_loss: 0.1611\n",
            "Epoch 12/50\n",
            "235/235 [==============================] - 1s 5ms/step - loss: 0.1606 - val_loss: 0.1574\n",
            "Epoch 13/50\n",
            "235/235 [==============================] - 1s 4ms/step - loss: 0.1568 - val_loss: 0.1538\n",
            "Epoch 14/50\n",
            "235/235 [==============================] - 1s 4ms/step - loss: 0.1534 - val_loss: 0.1504\n",
            "Epoch 15/50\n",
            "235/235 [==============================] - 1s 4ms/step - loss: 0.1502 - val_loss: 0.1474\n",
            "Epoch 16/50\n",
            "235/235 [==============================] - 1s 4ms/step - loss: 0.1472 - val_loss: 0.1445\n",
            "Epoch 17/50\n",
            "235/235 [==============================] - 1s 4ms/step - loss: 0.1444 - val_loss: 0.1417\n",
            "Epoch 18/50\n",
            "235/235 [==============================] - 1s 4ms/step - loss: 0.1419 - val_loss: 0.1393\n",
            "Epoch 19/50\n",
            "235/235 [==============================] - 1s 4ms/step - loss: 0.1394 - val_loss: 0.1369\n",
            "Epoch 20/50\n",
            "235/235 [==============================] - 1s 4ms/step - loss: 0.1371 - val_loss: 0.1346\n",
            "Epoch 21/50\n",
            "235/235 [==============================] - 1s 4ms/step - loss: 0.1350 - val_loss: 0.1325\n",
            "Epoch 22/50\n",
            "235/235 [==============================] - 1s 5ms/step - loss: 0.1329 - val_loss: 0.1305\n",
            "Epoch 23/50\n",
            "235/235 [==============================] - 1s 6ms/step - loss: 0.1309 - val_loss: 0.1286\n",
            "Epoch 24/50\n",
            "235/235 [==============================] - 1s 5ms/step - loss: 0.1291 - val_loss: 0.1267\n",
            "Epoch 25/50\n",
            "235/235 [==============================] - 1s 4ms/step - loss: 0.1272 - val_loss: 0.1250\n",
            "Epoch 26/50\n",
            "235/235 [==============================] - 1s 4ms/step - loss: 0.1255 - val_loss: 0.1232\n",
            "Epoch 27/50\n",
            "235/235 [==============================] - 1s 4ms/step - loss: 0.1238 - val_loss: 0.1216\n",
            "Epoch 28/50\n",
            "235/235 [==============================] - 1s 4ms/step - loss: 0.1222 - val_loss: 0.1200\n",
            "Epoch 29/50\n",
            "235/235 [==============================] - 1s 4ms/step - loss: 0.1207 - val_loss: 0.1185\n",
            "Epoch 30/50\n",
            "235/235 [==============================] - 1s 4ms/step - loss: 0.1193 - val_loss: 0.1171\n",
            "Epoch 31/50\n",
            "235/235 [==============================] - 1s 4ms/step - loss: 0.1179 - val_loss: 0.1158\n",
            "Epoch 32/50\n",
            "235/235 [==============================] - 1s 4ms/step - loss: 0.1167 - val_loss: 0.1146\n",
            "Epoch 33/50\n",
            "235/235 [==============================] - 1s 4ms/step - loss: 0.1155 - val_loss: 0.1134\n",
            "Epoch 34/50\n",
            "235/235 [==============================] - 1s 4ms/step - loss: 0.1144 - val_loss: 0.1123\n",
            "Epoch 35/50\n",
            "235/235 [==============================] - 1s 6ms/step - loss: 0.1133 - val_loss: 0.1113\n",
            "Epoch 36/50\n",
            "235/235 [==============================] - 1s 5ms/step - loss: 0.1124 - val_loss: 0.1105\n",
            "Epoch 37/50\n",
            "235/235 [==============================] - 1s 4ms/step - loss: 0.1114 - val_loss: 0.1095\n",
            "Epoch 38/50\n",
            "235/235 [==============================] - 1s 4ms/step - loss: 0.1106 - val_loss: 0.1087\n",
            "Epoch 39/50\n",
            "235/235 [==============================] - 1s 4ms/step - loss: 0.1098 - val_loss: 0.1079\n",
            "Epoch 40/50\n",
            "235/235 [==============================] - 1s 4ms/step - loss: 0.1090 - val_loss: 0.1071\n",
            "Epoch 41/50\n",
            "235/235 [==============================] - 1s 4ms/step - loss: 0.1083 - val_loss: 0.1065\n",
            "Epoch 42/50\n",
            "235/235 [==============================] - 1s 4ms/step - loss: 0.1077 - val_loss: 0.1058\n",
            "Epoch 43/50\n",
            "235/235 [==============================] - 1s 4ms/step - loss: 0.1070 - val_loss: 0.1052\n",
            "Epoch 44/50\n",
            "235/235 [==============================] - 1s 4ms/step - loss: 0.1065 - val_loss: 0.1046\n",
            "Epoch 45/50\n",
            "235/235 [==============================] - 1s 4ms/step - loss: 0.1059 - val_loss: 0.1041\n",
            "Epoch 46/50\n",
            "235/235 [==============================] - 1s 4ms/step - loss: 0.1054 - val_loss: 0.1036\n",
            "Epoch 47/50\n",
            "235/235 [==============================] - 1s 5ms/step - loss: 0.1049 - val_loss: 0.1031\n",
            "Epoch 48/50\n",
            "235/235 [==============================] - 1s 6ms/step - loss: 0.1044 - val_loss: 0.1026\n",
            "Epoch 49/50\n",
            "235/235 [==============================] - 1s 4ms/step - loss: 0.1040 - val_loss: 0.1023\n",
            "Epoch 50/50\n",
            "235/235 [==============================] - 1s 4ms/step - loss: 0.1036 - val_loss: 0.1019\n"
          ]
        },
        {
          "output_type": "execute_result",
          "data": {
            "text/plain": [
              "<keras.src.callbacks.History at 0x7f8657585960>"
            ]
          },
          "metadata": {},
          "execution_count": 10
        }
      ]
    },
    {
      "cell_type": "markdown",
      "metadata": {
        "id": "PcGAATyPTjto"
      },
      "source": [
        "### Test"
      ]
    },
    {
      "cell_type": "code",
      "metadata": {
        "id": "PRpwVdqqCCpR",
        "colab": {
          "base_uri": "https://localhost:8080/"
        },
        "outputId": "f472b67a-3f3d-4b6b-d90c-80c2105bb54e"
      },
      "source": [
        "decoded_imgs = autoencoder.predict(x_test)"
      ],
      "execution_count": null,
      "outputs": [
        {
          "output_type": "stream",
          "name": "stdout",
          "text": [
            "313/313 [==============================] - 1s 2ms/step\n"
          ]
        }
      ]
    },
    {
      "cell_type": "code",
      "metadata": {
        "id": "m0lQ5T7uV0fH",
        "outputId": "9c1b1e8d-1b38-45a7-de64-7f5b533c401c",
        "colab": {
          "base_uri": "https://localhost:8080/",
          "height": 336
        }
      },
      "source": [
        "plot_results(x_test, decoded_imgs)"
      ],
      "execution_count": null,
      "outputs": [
        {
          "output_type": "display_data",
          "data": {
            "text/plain": [
              "<Figure size 2000x400 with 20 Axes>"
            ],
            "image/png": "[encoded data removed]"
          },
          "metadata": {}
        }
      ]
    },
    {
      "cell_type": "markdown",
      "metadata": {
        "id": "6S1Iy6DWViWt"
      },
      "source": [
        "## A Deeper Autoencoder"
      ]
    },
    {
      "cell_type": "code",
      "metadata": {
        "id": "_P2NStMbCukt"
      },
      "source": [
        "autoencoder_deep = tf.keras.Sequential()\n",
        "autoencoder_deep.add(Input(shape=784))\n",
        "autoencoder_deep.add(Dense(128, activation='relu'))\n",
        "autoencoder_deep.add(Dense(64, activation='relu'))\n",
        "autoencoder_deep.add(Dense(32, activation='relu'))\n",
        "\n",
        "autoencoder_deep.add(Dense(64, activation='relu'))\n",
        "autoencoder_deep.add(Dense(128, activation='relu'))\n",
        "autoencoder_deep.add(Dense(784, activation='sigmoid'))"
      ],
      "execution_count": null,
      "outputs": []
    },
    {
      "cell_type": "code",
      "metadata": {
        "id": "hY24n9KdITwY",
        "colab": {
          "base_uri": "https://localhost:8080/"
        },
        "outputId": "a9f1df0b-f100-4cff-e3ed-95db47347291"
      },
      "source": [
        "autoencoder_deep.compile(optimizer=tf.keras.optimizers.Adadelta(learning_rate=1, rho=0.95), loss='binary_crossentropy')\n",
        "\n",
        "autoencoder_deep.fit(x_train, x_train,\n",
        "                epochs=100,\n",
        "                batch_size=256,\n",
        "                shuffle=True,\n",
        "                validation_data=(x_test, x_test))"
      ],
      "execution_count": null,
      "outputs": [
        {
          "output_type": "stream",
          "name": "stdout",
          "text": [
            "Epoch 1/100\n",
            "235/235 [==============================] - 4s 8ms/step - loss: 0.3225 - val_loss: 0.2620\n",
            "Epoch 2/100\n",
            "235/235 [==============================] - 1s 6ms/step - loss: 0.2549 - val_loss: 0.2464\n",
            "Epoch 3/100\n",
            "235/235 [==============================] - 1s 5ms/step - loss: 0.2351 - val_loss: 0.2218\n",
            "Epoch 4/100\n",
            "235/235 [==============================] - 1s 5ms/step - loss: 0.2109 - val_loss: 0.1993\n",
            "Epoch 5/100\n",
            "235/235 [==============================] - 1s 5ms/step - loss: 0.1925 - val_loss: 0.1866\n",
            "Epoch 6/100\n",
            "235/235 [==============================] - 1s 5ms/step - loss: 0.1829 - val_loss: 0.1788\n",
            "Epoch 7/100\n",
            "235/235 [==============================] - 1s 5ms/step - loss: 0.1769 - val_loss: 0.1720\n",
            "Epoch 8/100\n",
            "235/235 [==============================] - 1s 5ms/step - loss: 0.1708 - val_loss: 0.1674\n",
            "Epoch 9/100\n",
            "235/235 [==============================] - 1s 5ms/step - loss: 0.1651 - val_loss: 0.1621\n",
            "Epoch 10/100\n",
            "235/235 [==============================] - 1s 6ms/step - loss: 0.1597 - val_loss: 0.1558\n",
            "Epoch 11/100\n",
            "235/235 [==============================] - 2s 7ms/step - loss: 0.1548 - val_loss: 0.1507\n",
            "Epoch 12/100\n",
            "235/235 [==============================] - 1s 5ms/step - loss: 0.1512 - val_loss: 0.1475\n",
            "Epoch 13/100\n",
            "235/235 [==============================] - 1s 5ms/step - loss: 0.1479 - val_loss: 0.1445\n",
            "Epoch 14/100\n",
            "235/235 [==============================] - 1s 5ms/step - loss: 0.1456 - val_loss: 0.1411\n",
            "Epoch 15/100\n",
            "235/235 [==============================] - 1s 5ms/step - loss: 0.1433 - val_loss: 0.1412\n",
            "Epoch 16/100\n",
            "235/235 [==============================] - 1s 5ms/step - loss: 0.1415 - val_loss: 0.1395\n",
            "Epoch 17/100\n",
            "235/235 [==============================] - 1s 5ms/step - loss: 0.1395 - val_loss: 0.1365\n",
            "Epoch 18/100\n",
            "235/235 [==============================] - 1s 5ms/step - loss: 0.1377 - val_loss: 0.1370\n",
            "Epoch 19/100\n",
            "235/235 [==============================] - 1s 5ms/step - loss: 0.1357 - val_loss: 0.1331\n",
            "Epoch 20/100\n",
            "235/235 [==============================] - 1s 6ms/step - loss: 0.1341 - val_loss: 0.1319\n",
            "Epoch 21/100\n",
            "235/235 [==============================] - 2s 7ms/step - loss: 0.1325 - val_loss: 0.1316\n",
            "Epoch 22/100\n",
            "235/235 [==============================] - 1s 5ms/step - loss: 0.1311 - val_loss: 0.1296\n",
            "Epoch 23/100\n",
            "235/235 [==============================] - 1s 5ms/step - loss: 0.1298 - val_loss: 0.1272\n",
            "Epoch 24/100\n",
            "235/235 [==============================] - 1s 5ms/step - loss: 0.1285 - val_loss: 0.1295\n",
            "Epoch 25/100\n",
            "235/235 [==============================] - 1s 5ms/step - loss: 0.1272 - val_loss: 0.1249\n",
            "Epoch 26/100\n",
            "235/235 [==============================] - 1s 5ms/step - loss: 0.1262 - val_loss: 0.1239\n",
            "Epoch 27/100\n",
            "235/235 [==============================] - 1s 5ms/step - loss: 0.1251 - val_loss: 0.1239\n",
            "Epoch 28/100\n",
            "235/235 [==============================] - 1s 5ms/step - loss: 0.1240 - val_loss: 0.1210\n",
            "Epoch 29/100\n",
            "235/235 [==============================] - 1s 5ms/step - loss: 0.1231 - val_loss: 0.1198\n",
            "Epoch 30/100\n",
            "235/235 [==============================] - 2s 7ms/step - loss: 0.1220 - val_loss: 0.1202\n",
            "Epoch 31/100\n",
            "235/235 [==============================] - 1s 6ms/step - loss: 0.1213 - val_loss: 0.1196\n",
            "Epoch 32/100\n",
            "235/235 [==============================] - 1s 5ms/step - loss: 0.1203 - val_loss: 0.1175\n",
            "Epoch 33/100\n",
            "235/235 [==============================] - 1s 5ms/step - loss: 0.1195 - val_loss: 0.1205\n",
            "Epoch 34/100\n",
            "235/235 [==============================] - 1s 5ms/step - loss: 0.1188 - val_loss: 0.1179\n",
            "Epoch 35/100\n",
            "235/235 [==============================] - 1s 5ms/step - loss: 0.1182 - val_loss: 0.1174\n",
            "Epoch 36/100\n",
            "235/235 [==============================] - 1s 5ms/step - loss: 0.1176 - val_loss: 0.1160\n",
            "Epoch 37/100\n",
            "235/235 [==============================] - 1s 5ms/step - loss: 0.1171 - val_loss: 0.1172\n",
            "Epoch 38/100\n",
            "235/235 [==============================] - 1s 5ms/step - loss: 0.1164 - val_loss: 0.1139\n",
            "Epoch 39/100\n",
            "235/235 [==============================] - 1s 6ms/step - loss: 0.1159 - val_loss: 0.1131\n",
            "Epoch 40/100\n",
            "235/235 [==============================] - 2s 7ms/step - loss: 0.1153 - val_loss: 0.1132\n",
            "Epoch 41/100\n",
            "235/235 [==============================] - 1s 5ms/step - loss: 0.1148 - val_loss: 0.1132\n",
            "Epoch 42/100\n",
            "235/235 [==============================] - 1s 5ms/step - loss: 0.1143 - val_loss: 0.1121\n",
            "Epoch 43/100\n",
            "235/235 [==============================] - 1s 5ms/step - loss: 0.1138 - val_loss: 0.1110\n",
            "Epoch 44/100\n",
            "235/235 [==============================] - 1s 5ms/step - loss: 0.1133 - val_loss: 0.1148\n",
            "Epoch 45/100\n",
            "235/235 [==============================] - 1s 6ms/step - loss: 0.1129 - val_loss: 0.1118\n",
            "Epoch 46/100\n",
            "235/235 [==============================] - 1s 5ms/step - loss: 0.1123 - val_loss: 0.1114\n",
            "Epoch 47/100\n",
            "235/235 [==============================] - 1s 6ms/step - loss: 0.1118 - val_loss: 0.1102\n",
            "Epoch 48/100\n",
            "235/235 [==============================] - 1s 5ms/step - loss: 0.1115 - val_loss: 0.1089\n",
            "Epoch 49/100\n",
            "235/235 [==============================] - 2s 6ms/step - loss: 0.1110 - val_loss: 0.1102\n",
            "Epoch 50/100\n",
            "235/235 [==============================] - 2s 6ms/step - loss: 0.1107 - val_loss: 0.1116\n",
            "Epoch 51/100\n",
            "235/235 [==============================] - 1s 5ms/step - loss: 0.1101 - val_loss: 0.1099\n",
            "Epoch 52/100\n",
            "235/235 [==============================] - 1s 5ms/step - loss: 0.1098 - val_loss: 0.1076\n",
            "Epoch 53/100\n",
            "235/235 [==============================] - 1s 5ms/step - loss: 0.1093 - val_loss: 0.1076\n",
            "Epoch 54/100\n",
            "235/235 [==============================] - 1s 5ms/step - loss: 0.1088 - val_loss: 0.1079\n",
            "Epoch 55/100\n",
            "235/235 [==============================] - 1s 5ms/step - loss: 0.1086 - val_loss: 0.1085\n",
            "Epoch 56/100\n",
            "235/235 [==============================] - 1s 5ms/step - loss: 0.1081 - val_loss: 0.1055\n",
            "Epoch 57/100\n",
            "235/235 [==============================] - 1s 5ms/step - loss: 0.1076 - val_loss: 0.1060\n",
            "Epoch 58/100\n",
            "235/235 [==============================] - 2s 7ms/step - loss: 0.1073 - val_loss: 0.1050\n",
            "Epoch 59/100\n",
            "235/235 [==============================] - 3s 12ms/step - loss: 0.1069 - val_loss: 0.1067\n",
            "Epoch 60/100\n",
            "235/235 [==============================] - 1s 5ms/step - loss: 0.1065 - val_loss: 0.1052\n",
            "Epoch 61/100\n",
            "235/235 [==============================] - 1s 5ms/step - loss: 0.1061 - val_loss: 0.1042\n",
            "Epoch 62/100\n",
            "235/235 [==============================] - 1s 5ms/step - loss: 0.1058 - val_loss: 0.1050\n",
            "Epoch 63/100\n",
            "235/235 [==============================] - 1s 5ms/step - loss: 0.1054 - val_loss: 0.1051\n",
            "Epoch 64/100\n",
            "235/235 [==============================] - 1s 5ms/step - loss: 0.1052 - val_loss: 0.1027\n",
            "Epoch 65/100\n",
            "235/235 [==============================] - 1s 5ms/step - loss: 0.1049 - val_loss: 0.1033\n",
            "Epoch 66/100\n",
            "235/235 [==============================] - 1s 5ms/step - loss: 0.1044 - val_loss: 0.1034\n",
            "Epoch 67/100\n",
            "235/235 [==============================] - 1s 5ms/step - loss: 0.1043 - val_loss: 0.1050\n",
            "Epoch 68/100\n",
            "235/235 [==============================] - 2s 7ms/step - loss: 0.1040 - val_loss: 0.1044\n",
            "Epoch 69/100\n",
            "235/235 [==============================] - 1s 6ms/step - loss: 0.1039 - val_loss: 0.1031\n",
            "Epoch 70/100\n",
            "235/235 [==============================] - 1s 5ms/step - loss: 0.1035 - val_loss: 0.1028\n",
            "Epoch 71/100\n",
            "235/235 [==============================] - 1s 5ms/step - loss: 0.1032 - val_loss: 0.1022\n",
            "Epoch 72/100\n",
            "235/235 [==============================] - 1s 5ms/step - loss: 0.1030 - val_loss: 0.1031\n",
            "Epoch 73/100\n",
            "235/235 [==============================] - 1s 5ms/step - loss: 0.1028 - val_loss: 0.1011\n",
            "Epoch 74/100\n",
            "235/235 [==============================] - 1s 5ms/step - loss: 0.1026 - val_loss: 0.1003\n",
            "Epoch 75/100\n",
            "235/235 [==============================] - 1s 5ms/step - loss: 0.1024 - val_loss: 0.1019\n",
            "Epoch 76/100\n",
            "235/235 [==============================] - 1s 5ms/step - loss: 0.1021 - val_loss: 0.1013\n",
            "Epoch 77/100\n",
            "235/235 [==============================] - 1s 6ms/step - loss: 0.1020 - val_loss: 0.1015\n",
            "Epoch 78/100\n",
            "235/235 [==============================] - 2s 7ms/step - loss: 0.1017 - val_loss: 0.1016\n",
            "Epoch 79/100\n",
            "235/235 [==============================] - 1s 6ms/step - loss: 0.1016 - val_loss: 0.1004\n",
            "Epoch 80/100\n",
            "235/235 [==============================] - 1s 5ms/step - loss: 0.1012 - val_loss: 0.0999\n",
            "Epoch 81/100\n",
            "235/235 [==============================] - 1s 5ms/step - loss: 0.1011 - val_loss: 0.1005\n",
            "Epoch 82/100\n",
            "235/235 [==============================] - 1s 5ms/step - loss: 0.1010 - val_loss: 0.0986\n",
            "Epoch 83/100\n",
            "235/235 [==============================] - 1s 5ms/step - loss: 0.1006 - val_loss: 0.0996\n",
            "Epoch 84/100\n",
            "235/235 [==============================] - 1s 5ms/step - loss: 0.1006 - val_loss: 0.1013\n",
            "Epoch 85/100\n",
            "235/235 [==============================] - 1s 5ms/step - loss: 0.1004 - val_loss: 0.0999\n",
            "Epoch 86/100\n",
            "235/235 [==============================] - 1s 5ms/step - loss: 0.1002 - val_loss: 0.0985\n",
            "Epoch 87/100\n",
            "235/235 [==============================] - 1s 6ms/step - loss: 0.1000 - val_loss: 0.1002\n",
            "Epoch 88/100\n",
            "235/235 [==============================] - 2s 7ms/step - loss: 0.0998 - val_loss: 0.0984\n",
            "Epoch 89/100\n",
            "235/235 [==============================] - 1s 5ms/step - loss: 0.0997 - val_loss: 0.0976\n",
            "Epoch 90/100\n",
            "235/235 [==============================] - 1s 5ms/step - loss: 0.0996 - val_loss: 0.1001\n",
            "Epoch 91/100\n",
            "235/235 [==============================] - 1s 5ms/step - loss: 0.0994 - val_loss: 0.0983\n",
            "Epoch 92/100\n",
            "235/235 [==============================] - 1s 5ms/step - loss: 0.0993 - val_loss: 0.0971\n",
            "Epoch 93/100\n",
            "235/235 [==============================] - 1s 5ms/step - loss: 0.0991 - val_loss: 0.0980\n",
            "Epoch 94/100\n",
            "235/235 [==============================] - 1s 5ms/step - loss: 0.0990 - val_loss: 0.0992\n",
            "Epoch 95/100\n",
            "235/235 [==============================] - 1s 5ms/step - loss: 0.0988 - val_loss: 0.0968\n",
            "Epoch 96/100\n",
            "235/235 [==============================] - 1s 5ms/step - loss: 0.0987 - val_loss: 0.0994\n",
            "Epoch 97/100\n",
            "235/235 [==============================] - 2s 7ms/step - loss: 0.0985 - val_loss: 0.0975\n",
            "Epoch 98/100\n",
            "235/235 [==============================] - 2s 6ms/step - loss: 0.0983 - val_loss: 0.0974\n",
            "Epoch 99/100\n",
            "235/235 [==============================] - 1s 5ms/step - loss: 0.0984 - val_loss: 0.0975\n",
            "Epoch 100/100\n",
            "235/235 [==============================] - 1s 5ms/step - loss: 0.0982 - val_loss: 0.0975\n"
          ]
        },
        {
          "output_type": "execute_result",
          "data": {
            "text/plain": [
              "<keras.src.callbacks.History at 0x7f8664c59d50>"
            ]
          },
          "metadata": {},
          "execution_count": 14
        }
      ]
    },
    {
      "cell_type": "code",
      "metadata": {
        "id": "KkxNWrj5IeLv",
        "colab": {
          "base_uri": "https://localhost:8080/"
        },
        "outputId": "d655a3cb-c01b-431f-b6c1-c8fd4dcbece0"
      },
      "source": [
        "decoded_imgs_deep = autoencoder_deep.predict(x_test)\n",
        "decoded_imgs = autoencoder.predict(x_test)"
      ],
      "execution_count": null,
      "outputs": [
        {
          "output_type": "stream",
          "name": "stdout",
          "text": [
            "313/313 [==============================] - 1s 2ms/step\n",
            "313/313 [==============================] - 0s 1ms/step\n"
          ]
        }
      ]
    },
    {
      "cell_type": "code",
      "metadata": {
        "id": "Ev_wBESzJeZO",
        "outputId": "4020d542-8372-4a62-ea4e-8122f3c892a4",
        "colab": {
          "base_uri": "https://localhost:8080/",
          "height": 655
        }
      },
      "source": [
        "plot_results(x_test, decoded_imgs_deep)\n",
        "plot_results(x_test, decoded_imgs)"
      ],
      "execution_count": null,
      "outputs": [
        {
          "output_type": "display_data",
          "data": {
            "text/plain": [
              "<Figure size 2000x400 with 20 Axes>"
            ],
            "image/png": "[encoded data removed]"
          },
          "metadata": {}
        },
        {
          "output_type": "display_data",
          "data": {
            "text/plain": [
              "<Figure size 2000x400 with 20 Axes>"
            ],
            "image/png": "[encoded data removed]"
          },
          "metadata": {}
        }
      ]
    },
    {
      "cell_type": "markdown",
      "metadata": {
        "id": "UNHa-dHnVdYB"
      },
      "source": [
        "## Convolutional Autoencoder"
      ]
    },
    {
      "cell_type": "markdown",
      "metadata": {
        "id": "uqXSkK2cfPY-"
      },
      "source": [
        "\n"
      ]
    },
    {
      "cell_type": "code",
      "metadata": {
        "id": "UxMGFMUBJhcm"
      },
      "source": [
        "from tensorflow.keras.layers import Input, Dense, Conv2D, MaxPooling2D, UpSampling2D"
      ],
      "execution_count": null,
      "outputs": []
    },
    {
      "cell_type": "code",
      "metadata": {
        "id": "ll6Vey-anDTa",
        "outputId": "77c18605-d77a-414a-f27e-cd8d861553dd",
        "colab": {
          "base_uri": "https://localhost:8080/"
        }
      },
      "source": [
        "conv_autoencoder = tf.keras.Sequential()\n",
        "\n",
        "# first we create the encoder part\n",
        "conv_autoencoder.add(Input(shape=(28, 28, 1)))\n",
        "\n",
        "conv_autoencoder.add(Conv2D(16, (3, 3), activation='relu', padding='same'))\n",
        "conv_autoencoder.add(MaxPooling2D((2, 2), padding='same'))\n",
        "\n",
        "conv_autoencoder.add(Conv2D(8, kernel_size=(3, 3), activation='relu', padding='same'))\n",
        "conv_autoencoder.add(MaxPooling2D(pool_size=(2, 2), padding='same'))\n",
        "\n",
        "conv_autoencoder.add(Conv2D(8, kernel_size=(3, 3), activation='relu', padding='same'))\n",
        "conv_autoencoder.add(MaxPooling2D(pool_size=(2, 2), padding='same'))\n",
        "\n",
        "# now we create the decoder part\n",
        "conv_autoencoder.add(Conv2D(8, kernel_size=(3, 3), activation='relu', padding='same'))\n",
        "conv_autoencoder.add(UpSampling2D(size=(2, 2)))\n",
        "\n",
        "# conv and upsampling\n",
        "conv_autoencoder.add(Conv2D(8, kernel_size=(3, 3), activation='relu', padding='same'))\n",
        "conv_autoencoder.add(UpSampling2D(size=(2, 2)))\n",
        "\n",
        "# conv and upsampling\n",
        "conv_autoencoder.add(Conv2D(16, kernel_size=(3, 3), activation='relu'))\n",
        "conv_autoencoder.add(UpSampling2D(size=(2, 2)))\n",
        "\n",
        "# conv - output\n",
        "conv_autoencoder.add(Conv2D(1, kernel_size=(3, 3), activation='relu', padding='same'))\n",
        "\n",
        "conv_autoencoder.compile(optimizer=tf.keras.optimizers.Adadelta(learning_rate=1, rho=0.95),\n",
        "                         loss='binary_crossentropy')\n",
        "\n",
        "conv_autoencoder.summary()"
      ],
      "execution_count": null,
      "outputs": [
        {
          "output_type": "stream",
          "name": "stdout",
          "text": [
            "Model: \"sequential_2\"\n",
            "_________________________________________________________________\n",
            " Layer (type)                Output Shape              Param #   \n",
            "=================================================================\n",
            " conv2d (Conv2D)             (None, 28, 28, 16)        160       \n",
            "                                                                 \n",
            " max_pooling2d (MaxPooling2  (None, 14, 14, 16)        0         \n",
            " D)                                                              \n",
            "                                                                 \n",
            " conv2d_1 (Conv2D)           (None, 14, 14, 8)         1160      \n",
            "                                                                 \n",
            " max_pooling2d_1 (MaxPoolin  (None, 7, 7, 8)           0         \n",
            " g2D)                                                            \n",
            "                                                                 \n",
            " conv2d_2 (Conv2D)           (None, 7, 7, 8)           584       \n",
            "                                                                 \n",
            " max_pooling2d_2 (MaxPoolin  (None, 4, 4, 8)           0         \n",
            " g2D)                                                            \n",
            "                                                                 \n",
            " conv2d_3 (Conv2D)           (None, 4, 4, 8)           584       \n",
            "                                                                 \n",
            " up_sampling2d (UpSampling2  (None, 8, 8, 8)           0         \n",
            " D)                                                              \n",
            "                                                                 \n",
            " conv2d_4 (Conv2D)           (None, 8, 8, 8)           584       \n",
            "                                                                 \n",
            " up_sampling2d_1 (UpSamplin  (None, 16, 16, 8)         0         \n",
            " g2D)                                                            \n",
            "                                                                 \n",
            " conv2d_5 (Conv2D)           (None, 14, 14, 16)        1168      \n",
            "                                                                 \n",
            " up_sampling2d_2 (UpSamplin  (None, 28, 28, 16)        0         \n",
            " g2D)                                                            \n",
            "                                                                 \n",
            " conv2d_6 (Conv2D)           (None, 28, 28, 1)         145       \n",
            "                                                                 \n",
            "=================================================================\n",
            "Total params: 4385 (17.13 KB)\n",
            "Trainable params: 4385 (17.13 KB)\n",
            "Non-trainable params: 0 (0.00 Byte)\n",
            "_________________________________________________________________\n"
          ]
        }
      ]
    },
    {
      "cell_type": "code",
      "metadata": {
        "id": "ZGGeIIcGrNdR"
      },
      "source": [
        "(x_train, _), (x_test, _) = mnist.load_data()\n",
        "\n",
        "x_train = x_train.astype('float32') / 255.\n",
        "x_test = x_test.astype('float32') / 255.\n",
        "x_train = np.reshape(x_train, (len(x_train), 28, 28, 1))\n",
        "x_test = np.reshape(x_test, (len(x_test), 28, 28, 1))"
      ],
      "execution_count": null,
      "outputs": []
    },
    {
      "cell_type": "code",
      "metadata": {
        "id": "44lJPMrOrQup",
        "colab": {
          "base_uri": "https://localhost:8080/"
        },
        "outputId": "40a64ed6-f24a-48db-d782-e41f9eabbcdc"
      },
      "source": [
        "conv_autoencoder.fit(x_train, x_train,\n",
        "                epochs=50,\n",
        "                batch_size=128,\n",
        "                shuffle=True,\n",
        "                validation_data=(x_test, x_test))"
      ],
      "execution_count": null,
      "outputs": [
        {
          "output_type": "stream",
          "name": "stdout",
          "text": [
            "Epoch 1/50\n",
            "469/469 [==============================] - 11s 9ms/step - loss: 0.2318 - val_loss: 0.1985\n",
            "Epoch 2/50\n",
            "469/469 [==============================] - 3s 7ms/step - loss: 0.1904 - val_loss: 0.1798\n",
            "Epoch 3/50\n",
            "469/469 [==============================] - 4s 7ms/step - loss: 0.1773 - val_loss: 0.1684\n",
            "Epoch 4/50\n",
            "469/469 [==============================] - 4s 8ms/step - loss: 0.1684 - val_loss: 0.1716\n",
            "Epoch 5/50\n",
            "469/469 [==============================] - 3s 7ms/step - loss: 0.1643 - val_loss: 0.1552\n",
            "Epoch 6/50\n",
            "469/469 [==============================] - 3s 6ms/step - loss: 0.1594 - val_loss: 0.1524\n",
            "Epoch 7/50\n",
            "469/469 [==============================] - 3s 6ms/step - loss: 0.1557 - val_loss: 0.1496\n",
            "Epoch 8/50\n",
            "469/469 [==============================] - 4s 8ms/step - loss: 0.1527 - val_loss: 0.1465\n",
            "Epoch 9/50\n",
            "469/469 [==============================] - 3s 7ms/step - loss: 0.1503 - val_loss: 0.1469\n",
            "Epoch 10/50\n",
            "469/469 [==============================] - 3s 7ms/step - loss: 0.1499 - val_loss: 0.1497\n",
            "Epoch 11/50\n",
            "469/469 [==============================] - 3s 7ms/step - loss: 0.1466 - val_loss: 0.1409\n",
            "Epoch 12/50\n",
            "469/469 [==============================] - 4s 8ms/step - loss: 0.1471 - val_loss: 0.1400\n",
            "Epoch 13/50\n",
            "469/469 [==============================] - 3s 6ms/step - loss: 0.1433 - val_loss: 0.1393\n",
            "Epoch 14/50\n",
            "469/469 [==============================] - 3s 7ms/step - loss: 0.1422 - val_loss: 0.1412\n",
            "Epoch 15/50\n",
            "469/469 [==============================] - 4s 8ms/step - loss: 0.1422 - val_loss: 0.1360\n",
            "Epoch 16/50\n",
            "469/469 [==============================] - 4s 8ms/step - loss: 0.1391 - val_loss: 0.1350\n",
            "Epoch 17/50\n",
            "469/469 [==============================] - 3s 7ms/step - loss: 0.1397 - val_loss: 0.1339\n",
            "Epoch 18/50\n",
            "469/469 [==============================] - 3s 7ms/step - loss: 0.1360 - val_loss: 0.1321\n",
            "Epoch 19/50\n",
            "469/469 [==============================] - 3s 7ms/step - loss: 0.1387 - val_loss: 0.1314\n",
            "Epoch 20/50\n",
            "469/469 [==============================] - 3s 7ms/step - loss: 0.1365 - val_loss: 0.1322\n",
            "Epoch 21/50\n",
            "469/469 [==============================] - 3s 7ms/step - loss: 0.1347 - val_loss: 0.1302\n",
            "Epoch 22/50\n",
            "469/469 [==============================] - 3s 7ms/step - loss: 0.1333 - val_loss: 0.1299\n",
            "Epoch 23/50\n",
            "469/469 [==============================] - 4s 8ms/step - loss: 0.1336 - val_loss: 0.1285\n",
            "Epoch 24/50\n",
            "469/469 [==============================] - 3s 7ms/step - loss: 0.1334 - val_loss: 0.1288\n",
            "Epoch 25/50\n",
            "469/469 [==============================] - 3s 6ms/step - loss: 0.1347 - val_loss: 0.1355\n",
            "Epoch 26/50\n",
            "469/469 [==============================] - 3s 6ms/step - loss: 0.1314 - val_loss: 0.1386\n",
            "Epoch 27/50\n",
            "469/469 [==============================] - 4s 8ms/step - loss: 0.1317 - val_loss: 0.1328\n",
            "Epoch 28/50\n",
            "469/469 [==============================] - 3s 7ms/step - loss: 0.1304 - val_loss: 0.1268\n",
            "Epoch 29/50\n",
            "469/469 [==============================] - 3s 6ms/step - loss: 0.1316 - val_loss: 0.1254\n",
            "Epoch 30/50\n",
            "469/469 [==============================] - 3s 6ms/step - loss: 0.1321 - val_loss: 0.1259\n",
            "Epoch 31/50\n",
            "469/469 [==============================] - 4s 8ms/step - loss: 0.1285 - val_loss: 0.1419\n",
            "Epoch 32/50\n",
            "469/469 [==============================] - 3s 7ms/step - loss: 0.1312 - val_loss: 0.1245\n",
            "Epoch 33/50\n",
            "469/469 [==============================] - 3s 6ms/step - loss: 0.1288 - val_loss: 0.1292\n",
            "Epoch 34/50\n",
            "469/469 [==============================] - 3s 6ms/step - loss: 0.1296 - val_loss: 0.1285\n",
            "Epoch 35/50\n",
            "469/469 [==============================] - 4s 8ms/step - loss: 0.1277 - val_loss: 0.1234\n",
            "Epoch 36/50\n",
            "469/469 [==============================] - 3s 7ms/step - loss: 0.1275 - val_loss: 0.1234\n",
            "Epoch 37/50\n",
            "469/469 [==============================] - 3s 6ms/step - loss: 0.1286 - val_loss: 0.1233\n",
            "Epoch 38/50\n",
            "469/469 [==============================] - 3s 6ms/step - loss: 0.1278 - val_loss: 0.1222\n",
            "Epoch 39/50\n",
            "469/469 [==============================] - 4s 8ms/step - loss: 0.1278 - val_loss: 0.1322\n",
            "Epoch 40/50\n",
            "469/469 [==============================] - 3s 6ms/step - loss: 0.1264 - val_loss: 0.1237\n",
            "Epoch 41/50\n",
            "469/469 [==============================] - 3s 7ms/step - loss: 0.1261 - val_loss: 0.1208\n",
            "Epoch 42/50\n",
            "469/469 [==============================] - 3s 6ms/step - loss: 0.1280 - val_loss: 0.1231\n",
            "Epoch 43/50\n",
            "469/469 [==============================] - 4s 8ms/step - loss: 0.1287 - val_loss: 0.1221\n",
            "Epoch 44/50\n",
            "469/469 [==============================] - 3s 6ms/step - loss: 0.1262 - val_loss: 0.1343\n",
            "Epoch 45/50\n",
            "469/469 [==============================] - 3s 7ms/step - loss: 0.1263 - val_loss: 0.1216\n",
            "Epoch 46/50\n",
            "469/469 [==============================] - 3s 7ms/step - loss: 0.1268 - val_loss: 0.1248\n",
            "Epoch 47/50\n",
            "469/469 [==============================] - 4s 8ms/step - loss: 0.1249 - val_loss: 0.1278\n",
            "Epoch 48/50\n",
            "469/469 [==============================] - 3s 6ms/step - loss: 0.1256 - val_loss: 0.1201\n",
            "Epoch 49/50\n",
            "469/469 [==============================] - 3s 6ms/step - loss: 0.1243 - val_loss: 0.1208\n",
            "Epoch 50/50\n",
            "469/469 [==============================] - 3s 7ms/step - loss: 0.1238 - val_loss: 0.1193\n"
          ]
        },
        {
          "output_type": "execute_result",
          "data": {
            "text/plain": [
              "<keras.src.callbacks.History at 0x7f85fbf66320>"
            ]
          },
          "metadata": {},
          "execution_count": 20
        }
      ]
    },
    {
      "cell_type": "code",
      "metadata": {
        "id": "GIckcd1ArfyP",
        "outputId": "d6f4197c-3aa4-469f-c665-e063d3725058",
        "colab": {
          "base_uri": "https://localhost:8080/",
          "height": 354
        }
      },
      "source": [
        "plot_results(x_test, conv_autoencoder.predict(x_test))"
      ],
      "execution_count": null,
      "outputs": [
        {
          "output_type": "stream",
          "name": "stdout",
          "text": [
            "313/313 [==============================] - 1s 2ms/step\n"
          ]
        },
        {
          "output_type": "display_data",
          "data": {
            "text/plain": [
              "<Figure size 2000x400 with 20 Axes>"
            ],
            "image/png": "[encoded data removed]"
          },
          "metadata": {}
        }
      ]
    },
    {
      "cell_type": "markdown",
      "metadata": {
        "id": "XZPYQiu2rAu3"
      },
      "source": [
        "## De-Noising Autoencoder"
      ]
    },
    {
      "cell_type": "markdown",
      "metadata": {
        "id": "-aTYf5z7rzWL"
      },
      "source": [
        "Add noise to the data"
      ]
    },
    {
      "cell_type": "code",
      "metadata": {
        "id": "Uzhr6lnSrDsw"
      },
      "source": [
        "(x_train, _), (x_test, _) = mnist.load_data()\n",
        "\n",
        "x_train = x_train.astype('float32') / 255.\n",
        "x_test = x_test.astype('float32') / 255.\n",
        "x_train = np.reshape(x_train, (len(x_train), 28, 28, 1))\n",
        "x_test = np.reshape(x_test, (len(x_test), 28, 28, 1))\n",
        "\n",
        "noise_factor = 0.5\n",
        "x_train_noisy = x_train + noise_factor * np.random.normal(loc=0.0, scale=1.0, size=x_train.shape)\n",
        "x_test_noisy = x_test + noise_factor * np.random.normal(loc=0.0, scale=1.0, size=x_test.shape)\n",
        "\n",
        "x_train_noisy = np.clip(x_train_noisy, 0., 1.)\n",
        "x_test_noisy = np.clip(x_test_noisy, 0., 1.)"
      ],
      "execution_count": null,
      "outputs": []
    },
    {
      "cell_type": "code",
      "metadata": {
        "id": "Y0viEDKXG8NL",
        "outputId": "246c7989-992f-4678-dc90-626bef83b708",
        "colab": {
          "base_uri": "https://localhost:8080/",
          "height": 336
        }
      },
      "source": [
        "plot_results(x_test, x_test_noisy)"
      ],
      "execution_count": null,
      "outputs": [
        {
          "output_type": "display_data",
          "data": {
            "text/plain": [
              "<Figure size 2000x400 with 20 Axes>"
            ],
            "image/png": "[encoded data removed]"
          },
          "metadata": {}
        }
      ]
    },
    {
      "cell_type": "markdown",
      "metadata": {
        "id": "kCrBBKU1E43M"
      },
      "source": [
        "Create model"
      ]
    },
    {
      "cell_type": "code",
      "metadata": {
        "id": "WS9rfVtuE7EW",
        "outputId": "34cf634c-60a8-4935-9a77-34112b0ebe9a",
        "colab": {
          "base_uri": "https://localhost:8080/"
        }
      },
      "source": [
        "denoising_ae = tf.keras.Sequential()\n",
        "\n",
        "denoising_ae.add(Conv2D(32, kernel_size=(3, 3), activation='relu', padding='same',\n",
        "                        input_shape=(28, 28, 1)))\n",
        "denoising_ae.add(MaxPooling2D(pool_size=(2, 2), padding='same'))\n",
        "\n",
        "denoising_ae.add(Conv2D(32, (3, 3), activation='relu', padding='same'))\n",
        "denoising_ae.add(MaxPooling2D((2, 2), padding='same'))\n",
        "\n",
        "\n",
        "denoising_ae.add(Conv2D(32, (3, 3), activation='relu', padding='same'))\n",
        "denoising_ae.add(UpSampling2D((2, 2)))\n",
        "\n",
        "denoising_ae.add(Conv2D(32, (3, 3), activation='relu', padding='same'))\n",
        "denoising_ae.add(UpSampling2D((2, 2)))\n",
        "\n",
        "denoising_ae.add(Conv2D(1, (3, 3), activation='sigmoid', padding='same'))\n",
        "\n",
        "denoising_ae.compile(optimizer=tf.keras.optimizers.Adadelta(learning_rate=1, rho=0.95), loss='binary_crossentropy')\n",
        "denoising_ae.summary()"
      ],
      "execution_count": null,
      "outputs": [
        {
          "output_type": "stream",
          "name": "stdout",
          "text": [
            "Model: \"sequential_3\"\n",
            "_________________________________________________________________\n",
            " Layer (type)                Output Shape              Param #   \n",
            "=================================================================\n",
            " conv2d_7 (Conv2D)           (None, 28, 28, 32)        320       \n",
            "                                                                 \n",
            " max_pooling2d_3 (MaxPoolin  (None, 14, 14, 32)        0         \n",
            " g2D)                                                            \n",
            "                                                                 \n",
            " conv2d_8 (Conv2D)           (None, 14, 14, 32)        9248      \n",
            "                                                                 \n",
            " max_pooling2d_4 (MaxPoolin  (None, 7, 7, 32)          0         \n",
            " g2D)                                                            \n",
            "                                                                 \n",
            " conv2d_9 (Conv2D)           (None, 7, 7, 32)          9248      \n",
            "                                                                 \n",
            " up_sampling2d_3 (UpSamplin  (None, 14, 14, 32)        0         \n",
            " g2D)                                                            \n",
            "                                                                 \n",
            " conv2d_10 (Conv2D)          (None, 14, 14, 32)        9248      \n",
            "                                                                 \n",
            " up_sampling2d_4 (UpSamplin  (None, 28, 28, 32)        0         \n",
            " g2D)                                                            \n",
            "                                                                 \n",
            " conv2d_11 (Conv2D)          (None, 28, 28, 1)         289       \n",
            "                                                                 \n",
            "=================================================================\n",
            "Total params: 28353 (110.75 KB)\n",
            "Trainable params: 28353 (110.75 KB)\n",
            "Non-trainable params: 0 (0.00 Byte)\n",
            "_________________________________________________________________\n"
          ]
        }
      ]
    },
    {
      "cell_type": "markdown",
      "metadata": {
        "id": "YtASVxZsr5wb"
      },
      "source": [
        "Train and plot results"
      ]
    },
    {
      "cell_type": "code",
      "metadata": {
        "id": "hOgeBhG1rwKM",
        "outputId": "04757bef-0122-429c-ee12-47592abeda82",
        "colab": {
          "base_uri": "https://localhost:8080/"
        }
      },
      "source": [
        "denoising_ae.fit(x_train_noisy, x_train,\n",
        "                epochs=50,\n",
        "                batch_size=128,\n",
        "                shuffle=True,\n",
        "                validation_data=(x_test_noisy, x_test))"
      ],
      "execution_count": null,
      "outputs": [
        {
          "output_type": "stream",
          "name": "stdout",
          "text": [
            "Epoch 1/50\n",
            "469/469 [==============================] - 5s 7ms/step - loss: 0.1765 - val_loss: 0.1229\n",
            "Epoch 2/50\n",
            "469/469 [==============================] - 3s 6ms/step - loss: 0.1196 - val_loss: 0.1115\n",
            "Epoch 3/50\n",
            "469/469 [==============================] - 3s 7ms/step - loss: 0.1124 - val_loss: 0.1063\n",
            "Epoch 4/50\n",
            "469/469 [==============================] - 3s 7ms/step - loss: 0.1086 - val_loss: 0.1052\n",
            "Epoch 5/50\n",
            "469/469 [==============================] - 3s 6ms/step - loss: 0.1061 - val_loss: 0.1028\n",
            "Epoch 6/50\n",
            "469/469 [==============================] - 3s 6ms/step - loss: 0.1046 - val_loss: 0.1027\n",
            "Epoch 7/50\n",
            "469/469 [==============================] - 4s 7ms/step - loss: 0.1034 - val_loss: 0.1027\n",
            "Epoch 8/50\n",
            "469/469 [==============================] - 4s 8ms/step - loss: 0.1024 - val_loss: 0.1001\n",
            "Epoch 9/50\n",
            "469/469 [==============================] - 3s 6ms/step - loss: 0.1016 - val_loss: 0.1007\n",
            "Epoch 10/50\n",
            "469/469 [==============================] - 3s 7ms/step - loss: 0.1011 - val_loss: 0.0995\n",
            "Epoch 11/50\n",
            "469/469 [==============================] - 3s 6ms/step - loss: 0.1006 - val_loss: 0.0986\n",
            "Epoch 12/50\n",
            "469/469 [==============================] - 3s 7ms/step - loss: 0.1001 - val_loss: 0.0994\n",
            "Epoch 13/50\n",
            "469/469 [==============================] - 3s 7ms/step - loss: 0.0997 - val_loss: 0.0997\n",
            "Epoch 14/50\n",
            "469/469 [==============================] - 3s 6ms/step - loss: 0.0993 - val_loss: 0.0983\n",
            "Epoch 15/50\n",
            "469/469 [==============================] - 3s 7ms/step - loss: 0.0990 - val_loss: 0.0975\n",
            "Epoch 16/50\n",
            "469/469 [==============================] - 3s 7ms/step - loss: 0.0988 - val_loss: 0.0978\n",
            "Epoch 17/50\n",
            "469/469 [==============================] - 3s 6ms/step - loss: 0.0986 - val_loss: 0.1008\n",
            "Epoch 18/50\n",
            "469/469 [==============================] - 3s 6ms/step - loss: 0.0984 - val_loss: 0.0991\n",
            "Epoch 19/50\n",
            "469/469 [==============================] - 3s 6ms/step - loss: 0.0982 - val_loss: 0.0967\n",
            "Epoch 20/50\n",
            "469/469 [==============================] - 3s 7ms/step - loss: 0.0980 - val_loss: 0.0968\n",
            "Epoch 21/50\n",
            "469/469 [==============================] - 3s 6ms/step - loss: 0.0978 - val_loss: 0.0995\n",
            "Epoch 22/50\n",
            "469/469 [==============================] - 3s 6ms/step - loss: 0.0977 - val_loss: 0.0978\n",
            "Epoch 23/50\n",
            "469/469 [==============================] - 3s 7ms/step - loss: 0.0975 - val_loss: 0.0963\n",
            "Epoch 24/50\n",
            "469/469 [==============================] - 3s 7ms/step - loss: 0.0973 - val_loss: 0.0983\n",
            "Epoch 25/50\n",
            "469/469 [==============================] - 3s 6ms/step - loss: 0.0972 - val_loss: 0.0980\n",
            "Epoch 26/50\n",
            "469/469 [==============================] - 3s 6ms/step - loss: 0.0971 - val_loss: 0.0959\n",
            "Epoch 27/50\n",
            "469/469 [==============================] - 3s 7ms/step - loss: 0.0970 - val_loss: 0.0971\n",
            "Epoch 28/50\n",
            "469/469 [==============================] - 3s 7ms/step - loss: 0.0969 - val_loss: 0.0959\n",
            "Epoch 29/50\n",
            "469/469 [==============================] - 3s 6ms/step - loss: 0.0968 - val_loss: 0.0959\n",
            "Epoch 30/50\n",
            "469/469 [==============================] - 3s 6ms/step - loss: 0.0967 - val_loss: 0.0964\n",
            "Epoch 31/50\n",
            "469/469 [==============================] - 3s 7ms/step - loss: 0.0966 - val_loss: 0.0958\n",
            "Epoch 32/50\n",
            "469/469 [==============================] - 3s 7ms/step - loss: 0.0965 - val_loss: 0.0955\n",
            "Epoch 33/50\n",
            "469/469 [==============================] - 3s 6ms/step - loss: 0.0965 - val_loss: 0.0970\n",
            "Epoch 34/50\n",
            "469/469 [==============================] - 3s 6ms/step - loss: 0.0963 - val_loss: 0.0955\n",
            "Epoch 35/50\n",
            "469/469 [==============================] - 3s 7ms/step - loss: 0.0963 - val_loss: 0.0965\n",
            "Epoch 36/50\n",
            "469/469 [==============================] - 3s 7ms/step - loss: 0.0962 - val_loss: 0.0956\n",
            "Epoch 37/50\n",
            "469/469 [==============================] - 3s 6ms/step - loss: 0.0961 - val_loss: 0.0954\n",
            "Epoch 38/50\n",
            "469/469 [==============================] - 3s 6ms/step - loss: 0.0961 - val_loss: 0.0962\n",
            "Epoch 39/50\n",
            "469/469 [==============================] - 3s 6ms/step - loss: 0.0961 - val_loss: 0.0952\n",
            "Epoch 40/50\n",
            "469/469 [==============================] - 3s 7ms/step - loss: 0.0960 - val_loss: 0.0955\n",
            "Epoch 41/50\n",
            "469/469 [==============================] - 3s 6ms/step - loss: 0.0959 - val_loss: 0.0951\n",
            "Epoch 42/50\n",
            "469/469 [==============================] - 3s 6ms/step - loss: 0.0958 - val_loss: 0.0953\n",
            "Epoch 43/50\n",
            "469/469 [==============================] - 3s 7ms/step - loss: 0.0958 - val_loss: 0.0952\n",
            "Epoch 44/50\n",
            "469/469 [==============================] - 3s 7ms/step - loss: 0.0958 - val_loss: 0.0955\n",
            "Epoch 45/50\n",
            "469/469 [==============================] - 3s 6ms/step - loss: 0.0957 - val_loss: 0.0953\n",
            "Epoch 46/50\n",
            "469/469 [==============================] - 3s 6ms/step - loss: 0.0956 - val_loss: 0.0948\n",
            "Epoch 47/50\n",
            "469/469 [==============================] - 3s 7ms/step - loss: 0.0956 - val_loss: 0.0949\n",
            "Epoch 48/50\n",
            "469/469 [==============================] - 3s 7ms/step - loss: 0.0955 - val_loss: 0.0952\n",
            "Epoch 49/50\n",
            "469/469 [==============================] - 3s 6ms/step - loss: 0.0955 - val_loss: 0.0958\n",
            "Epoch 50/50\n",
            "469/469 [==============================] - 3s 6ms/step - loss: 0.0955 - val_loss: 0.0946\n"
          ]
        },
        {
          "output_type": "execute_result",
          "data": {
            "text/plain": [
              "<keras.src.callbacks.History at 0x7f861393a830>"
            ]
          },
          "metadata": {},
          "execution_count": 25
        }
      ]
    },
    {
      "cell_type": "code",
      "metadata": {
        "id": "uzYqxBVwDTnL",
        "outputId": "75b6c109-1f18-4c7a-be18-b724ef7f5f98",
        "colab": {
          "base_uri": "https://localhost:8080/",
          "height": 265
        }
      },
      "source": [
        "plot_results(x_test_noisy, denoising_ae.predict(x_test_noisy))"
      ],
      "execution_count": null,
      "outputs": [
        {
          "output_type": "stream",
          "name": "stdout",
          "text": [
            "313/313 [==============================] - 1s 2ms/step\n"
          ]
        },
        {
          "output_type": "display_data",
          "data": {
            "text/plain": [
              "<Figure size 1440x288 with 20 Axes>"
            ],
            "image/png": "[encoded data removed]"
          },
          "metadata": {
            "needs_background": "light"
          }
        }
      ]
    },
    {
      "cell_type": "code",
      "metadata": {
        "id": "QBociTqfKeQz"
      },
      "source": [],
      "execution_count": null,
      "outputs": []
    }
  ]
}